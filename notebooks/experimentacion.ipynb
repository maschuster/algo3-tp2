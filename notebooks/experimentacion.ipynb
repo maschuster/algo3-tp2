{
 "cells": [
  {
   "cell_type": "markdown",
   "metadata": {},
   "source": [
    "# Experimentacion"
   ]
  },
  {
   "cell_type": "markdown",
   "metadata": {},
   "source": [
    "## Experimento 1 - Comparación entre golosos"
   ]
  },
  {
   "cell_type": "code",
   "execution_count": 1,
   "metadata": {},
   "outputs": [],
   "source": [
    "%load_ext autoreload\n",
    "%autoreload 2"
   ]
  },
  {
   "cell_type": "markdown",
   "metadata": {},
   "source": [
    "## Imports"
   ]
  },
  {
   "cell_type": "code",
   "execution_count": 6,
   "metadata": {},
   "outputs": [],
   "source": [
    "import pcmi\n",
    "from os import listdir\n",
    "from os.path import isfile, join\n",
    "import glob"
   ]
  },
  {
   "cell_type": "code",
   "execution_count": 9,
   "metadata": {},
   "outputs": [
    {
     "name": "stdout",
     "output_type": "stream",
     "text": [
      "['CMI_n30.in', 'CMI_n14.in', 'CMI_n20.in', 'CMI_n6.in', 'CMI_n8.out', 'CMI_n24.in', 'CMI_n10.in', 'CMI_n26.out', 'CMI_n30.out', 'CMI_n24.out', 'CMI_n18.out', 'CMI_n20.out', 'CMI_n22.out', 'CMI_n8.in', 'CMI_n12.out', 'CMI_n10.out', 'CMI_n28.out', 'CMI_n14.out', 'CMI_n18.in', 'CMI_n16.out', 'CMI_n28.in', 'CMI_n6.out', 'CMI_n26.in', 'CMI_n12.in', 'CMI_n16.in', 'CMI_n22.in']\n"
     ]
    }
   ],
   "source": [
    "mypath = \"../instancias\"\n",
    "onlyfiles = [f for f in listdir(mypath) if isfile(join(mypath, f))]\n",
    "inFiles = []\n",
    "outFiles = []\n",
    "print(onlyfiles)"
   ]
  },
  {
   "cell_type": "code",
   "execution_count": 10,
   "metadata": {},
   "outputs": [],
   "source": [
    "algoritmos = [\"S-LF\", \"W\", \"WP\", \"TS-E\", \"TS-C\", \"C\"]"
   ]
  },
  {
   "cell_type": "code",
   "execution_count": null,
   "metadata": {},
   "outputs": [],
   "source": [
    "for file in onlyfiles:\n",
    "    "
   ]
  }
 ],
 "metadata": {
  "kernelspec": {
   "display_name": "Python 3",
   "language": "python",
   "name": "python3"
  },
  "language_info": {
   "codemirror_mode": {
    "name": "ipython",
    "version": 3
   },
   "file_extension": ".py",
   "mimetype": "text/x-python",
   "name": "python",
   "nbconvert_exporter": "python",
   "pygments_lexer": "ipython3",
   "version": "3.8.6"
  }
 },
 "nbformat": 4,
 "nbformat_minor": 4
}
